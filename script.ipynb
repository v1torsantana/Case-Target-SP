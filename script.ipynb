{
 "cells": [
  {
   "cell_type": "code",
   "execution_count": null,
   "metadata": {},
   "outputs": [],
   "source": [
    "# VITOR DA SILVA SANT'ANA\n",
    "# vitor.ssantana07@gmail.com\n",
    "# (11) 97217-8418"
   ]
  },
  {
   "cell_type": "code",
   "execution_count": 1,
   "metadata": {},
   "outputs": [
    {
     "name": "stdout",
     "output_type": "stream",
     "text": [
      "O resultado de soma será: 91\n"
     ]
    }
   ],
   "source": [
    "#Trazendo o código para python\n",
    "indice = 13\n",
    "soma = 0\n",
    "k = 0\n",
    " \n",
    "while k < indice:\n",
    "    k += 1\n",
    "    soma += k\n",
    "\n",
    "print(f'O resultado de soma será: {soma}')\n",
    "\n"
   ]
  },
  {
   "cell_type": "code",
   "execution_count": 83,
   "metadata": {},
   "outputs": [
    {
     "name": "stdout",
     "output_type": "stream",
     "text": [
      "[0, 1, 1, 2, 3, 5, 8, 13, 21]\n",
      "O número está contido na sequência de Fibonacci\n"
     ]
    }
   ],
   "source": [
    "#Inicializando a sequência de Fibonacci\n",
    "fibonacci = [0,1]\n",
    "#Número de entrada do usuário\n",
    "numero_entrada=8\n",
    "#Iterando do 3 item (já há 2 números na lista ) até o número de vezes que o usuário pediu\n",
    "for i in range(2, numero_entrada+1):\n",
    "    #'j' irá receber o a soma dos números que estão: antes dele e dois antes dele em Fibonacci\n",
    "    j = fibonacci[i-1] + fibonacci[i-2]\n",
    "    #Coloca o resultado na lista de Fibonacci\n",
    "    fibonacci.append(j)\n",
    "\n",
    "print(fibonacci)\n",
    "#Confere se o número inserido está na sequência de Fibonacci\n",
    "if numero_entrada in fibonacci:\n",
    "    print(\"O número está contido na sequência de Fibonacci\")\n",
    "else:\n",
    "    print(\"O número não está contido na sequência de Fibonacci\")"
   ]
  },
  {
   "cell_type": "code",
   "execution_count": 26,
   "metadata": {},
   "outputs": [
    {
     "name": "stdout",
     "output_type": "stream",
     "text": [
      "Menor: 1175782920\n",
      "Maior: 4957567691\n",
      "Em 16 dias foram obtidos resultados maiores que a média mensal!\n"
     ]
    }
   ],
   "source": [
    "import random\n",
    "import pandas as pd\n",
    "\n",
    "#Utilizando a biblioteca random pra buscar números, em um range de 30, relacionado aos 30 dias do mês, que simulem dados de uma distribuidora\n",
    "df = pd.read_csv('dados.csv')\n",
    "\n",
    "#Realizando um algoritmo para calcular o menor\n",
    "#Começando o algoritmo como o primeiro indice do dataset sendo o menor para começar as comparações\n",
    "menor_algoritmo = df['Faturamento'][0]\n",
    "\n",
    "#Iterando i dentro da coluna de faturamento\n",
    "for i in df['Faturamento']:\n",
    "    #Se i for menor que a variavel menor\n",
    "    if i < menor_algoritmo:\n",
    "        #Menor irá receber i, comparando com a lista toda\n",
    "        menor_algoritmo = i\n",
    "print(f'Menor: {menor_algoritmo}')\n",
    "\n",
    "#Função que obtém o menor automaticamente\n",
    "menor_funcao = df['Faturamento'].min()\n",
    "\n",
    "\n",
    "#Realizando um algoritmo para calcular o maior\n",
    "#Começando o algoritmo como o o maior sendo 0 para as próximas comparações\n",
    "maior_algoritmo = 0\n",
    "#Iterando j dentro da coluna de faturamento\n",
    "for j in df['Faturamento']:\n",
    "    #Se j for maior que a variavel maior\n",
    "    if j > maior_algoritmo:\n",
    "    #Maior irá receber j, comparando com a lista toda\n",
    "        maior_algoritmo = j\n",
    "print(f'Maior: {maior_algoritmo}')\n",
    "\n",
    "#Função que obtém o maior automaticamente\n",
    "maior_funcao = df['Faturamento'].max()\n",
    "\n",
    "\n",
    "\n",
    "#Antes de tudo, é necessário determinar a média mensal:\n",
    "media_mensal = df['Faturamento'].mean()\n",
    "#Inicializando a variável contagem, que irá contar os dias maiores que a média mensal\n",
    "contagem = 0\n",
    "#Iterando \"k\" dentro dos dados de faturamento\n",
    "for k in df['Faturamento']:\n",
    "    #Se o item na posição atual (k) for maior que a média mensal\n",
    "    if k > media_mensal:\n",
    "        #Adicionar 1 na contagem\n",
    "        contagem += 1\n",
    "print(f'Em {contagem} dias foram obtidos resultados maiores que a média mensal!')\n"
   ]
  },
  {
   "cell_type": "code",
   "execution_count": 51,
   "metadata": {},
   "outputs": [
    {
     "name": "stdout",
     "output_type": "stream",
     "text": [
      "Colaboração de cada estado:\n",
      "SP: 37.52845624346717\n",
      "RJ: 20.29136095279497\n",
      "MG: 16.170548370275323\n",
      "ES: 15.02848141496807\n",
      "Outros: 10.981153018494469\n"
     ]
    }
   ],
   "source": [
    "#Adicionando os dados fornecidos a um dicionário, pois contém chaves e valores\n",
    "faturamento_mensal = {\n",
    "    'SP': 6783643,\n",
    "    'RJ': 3667866,\n",
    "    'MG': 2922988,\n",
    "    'ES': 2716548,\n",
    "    'Outros': 1984953\n",
    "}\n",
    "\n",
    "#Inicializando a variavel que será o resultado da soma do faturamento mensal\n",
    "soma_faturamento_mensal = 0\n",
    "\n",
    "#Iterando \"i\" dentro do dicionário com os dados, mas acessando apenas os valores e não as chaves\n",
    "for i in faturamento_mensal.values():\n",
    "    #Somando os valores dentro da variável de soma de faturamento mensal\n",
    "    soma_faturamento_mensal += i\n",
    "\n",
    "#Realizando os cálculos para obter as porcentagens de cada estado na contribuição para o faturamento total mensal\n",
    "porcentagem_SP = 100 * faturamento_mensal['SP'] / soma_faturamento_mensal\n",
    "porcentagem_RJ = 100 * faturamento_mensal['RJ'] / soma_faturamento_mensal\n",
    "porcentagem_MG = 100 * faturamento_mensal['MG'] / soma_faturamento_mensal\n",
    "porcentagem_ES = 100 * faturamento_mensal['ES'] / soma_faturamento_mensal\n",
    "porcentagem_OUTROS = 100 * faturamento_mensal['Outros'] / soma_faturamento_mensal\n",
    "\n",
    "#Imprimindo as mensagens finais na tela do usuário\n",
    "print('Colaboração de cada estado:')\n",
    "print(f'SP: {porcentagem_SP}\\nRJ: {porcentagem_RJ}\\nMG: {porcentagem_MG}\\nES: {porcentagem_ES}\\nOutros: {porcentagem_OUTROS}')"
   ]
  },
  {
   "cell_type": "code",
   "execution_count": 105,
   "metadata": {},
   "outputs": [
    {
     "name": "stdout",
     "output_type": "stream",
     "text": [
      "String invertida: rotiv omahc em uE\n"
     ]
    }
   ],
   "source": [
    "#Criando a função de inverter strings com o paramêtro sendo apenas a string\n",
    "def inverte_string(string):\n",
    "    #Inicializando a lista que será a string invertida\n",
    "    string_invertida = ''\n",
    "    \n",
    "    #Iterando \"i\" dentro da string rodando ao contrário\n",
    "    #Esa sintaxe segue o esquema do python para iteração que é o seguinte:\n",
    "    #  string[START:STOP:STEP]\n",
    "    #Ou seja, onde começa a iteração, onde termina, e o passo que o código percorre pela string\n",
    "    #Como START e STOP não estão especificados, serão 0\n",
    "    #Com o passo sendo -1, isso faz com que o código leia a string ao contrário, percorrendo do último índice até o primeiro\n",
    "    for i in string[::-1]:\n",
    "        #Colocando cada índice \"i\" dentro da lista de string invertida\n",
    "        string_invertida += i\n",
    "    print(f'String invertida: {string_invertida}')    \n",
    "inverte_string('Eu me chamo vitor')"
   ]
  }
 ],
 "metadata": {
  "kernelspec": {
   "display_name": "Python 3",
   "language": "python",
   "name": "python3"
  },
  "language_info": {
   "codemirror_mode": {
    "name": "ipython",
    "version": 3
   },
   "file_extension": ".py",
   "mimetype": "text/x-python",
   "name": "python",
   "nbconvert_exporter": "python",
   "pygments_lexer": "ipython3",
   "version": "3.12.1"
  }
 },
 "nbformat": 4,
 "nbformat_minor": 2
}
